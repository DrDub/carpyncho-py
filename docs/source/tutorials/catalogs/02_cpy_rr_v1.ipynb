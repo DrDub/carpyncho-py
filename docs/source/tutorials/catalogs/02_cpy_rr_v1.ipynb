{
 "cells": [
  {
   "cell_type": "markdown",
   "metadata": {},
   "source": [
    "# Carpyncho RR-Lyrae V.1.0 Catalogs(`cp_rr_v1`)\n",
    "\n",
    "This notebook give some insights about the data stored in all the `features` types catalogs."
   ]
  },
  {
   "cell_type": "code",
   "execution_count": 1,
   "metadata": {},
   "outputs": [],
   "source": [
    "# import the module and instance the client\n",
    "import carpyncho \n",
    "client = carpyncho.Carpyncho(index_url=\"/home/juan/proyectos/carpyncho-py/src/data/local_index.json\")"
   ]
  },
  {
   "cell_type": "markdown",
   "metadata": {},
   "source": [
    "Now we download te Carpyncho RR-Lyrae V1 Catalog"
   ]
  },
  {
   "cell_type": "code",
   "execution_count": 2,
   "metadata": {},
   "outputs": [
    {
     "data": {
      "text/html": [
       "<div>\n",
       "<style scoped>\n",
       "    .dataframe tbody tr th:only-of-type {\n",
       "        vertical-align: middle;\n",
       "    }\n",
       "\n",
       "    .dataframe tbody tr th {\n",
       "        vertical-align: top;\n",
       "    }\n",
       "\n",
       "    .dataframe thead th {\n",
       "        text-align: right;\n",
       "    }\n",
       "</style>\n",
       "<table border=\"1\" class=\"dataframe\">\n",
       "  <thead>\n",
       "    <tr style=\"text-align: right;\">\n",
       "      <th></th>\n",
       "      <th>id</th>\n",
       "      <th>tile</th>\n",
       "      <th>cnt</th>\n",
       "      <th>ra_k</th>\n",
       "      <th>dec_k</th>\n",
       "      <th>prob</th>\n",
       "      <th>tsample</th>\n",
       "    </tr>\n",
       "  </thead>\n",
       "  <tbody>\n",
       "    <tr>\n",
       "      <th>6799063</th>\n",
       "      <td>33960000211620</td>\n",
       "      <td>b396</td>\n",
       "      <td>131</td>\n",
       "      <td>267.549917</td>\n",
       "      <td>-18.699892</td>\n",
       "      <td>0.852000</td>\n",
       "      <td>b206, b214, b216, b220, b228, b234, b247, b248...</td>\n",
       "    </tr>\n",
       "    <tr>\n",
       "      <th>7153972</th>\n",
       "      <td>33960000942530</td>\n",
       "      <td>b396</td>\n",
       "      <td>130</td>\n",
       "      <td>268.118017</td>\n",
       "      <td>-17.763556</td>\n",
       "      <td>0.849467</td>\n",
       "      <td>b206, b214, b216, b220, b228, b234, b247, b248...</td>\n",
       "    </tr>\n",
       "    <tr>\n",
       "      <th>6971905</th>\n",
       "      <td>33960000566886</td>\n",
       "      <td>b396</td>\n",
       "      <td>131</td>\n",
       "      <td>267.536346</td>\n",
       "      <td>-18.093889</td>\n",
       "      <td>0.837733</td>\n",
       "      <td>b206, b214, b216, b220, b228, b234, b247, b248...</td>\n",
       "    </tr>\n",
       "    <tr>\n",
       "      <th>6801853</th>\n",
       "      <td>33960000220135</td>\n",
       "      <td>b396</td>\n",
       "      <td>131</td>\n",
       "      <td>267.637892</td>\n",
       "      <td>-18.734767</td>\n",
       "      <td>0.837333</td>\n",
       "      <td>b206, b214, b216, b220, b228, b234, b247, b248...</td>\n",
       "    </tr>\n",
       "    <tr>\n",
       "      <th>6747151</th>\n",
       "      <td>33960000105195</td>\n",
       "      <td>b396</td>\n",
       "      <td>131</td>\n",
       "      <td>267.487762</td>\n",
       "      <td>-18.848939</td>\n",
       "      <td>0.828400</td>\n",
       "      <td>b206, b214, b216, b220, b228, b234, b247, b248...</td>\n",
       "    </tr>\n",
       "    <tr>\n",
       "      <th>...</th>\n",
       "      <td>...</td>\n",
       "      <td>...</td>\n",
       "      <td>...</td>\n",
       "      <td>...</td>\n",
       "      <td>...</td>\n",
       "      <td>...</td>\n",
       "      <td>...</td>\n",
       "    </tr>\n",
       "    <tr>\n",
       "      <th>6457949</th>\n",
       "      <td>33600000787886</td>\n",
       "      <td>b360</td>\n",
       "      <td>139</td>\n",
       "      <td>263.635417</td>\n",
       "      <td>-29.303825</td>\n",
       "      <td>0.462667</td>\n",
       "      <td>b206, b214, b216, b220, b228, b234, b247, b248...</td>\n",
       "    </tr>\n",
       "    <tr>\n",
       "      <th>6926060</th>\n",
       "      <td>33960000470380</td>\n",
       "      <td>b396</td>\n",
       "      <td>131</td>\n",
       "      <td>267.525504</td>\n",
       "      <td>-18.250553</td>\n",
       "      <td>0.462000</td>\n",
       "      <td>b206, b214, b216, b220, b228, b234, b247, b248...</td>\n",
       "    </tr>\n",
       "    <tr>\n",
       "      <th>6874859</th>\n",
       "      <td>33960000359818</td>\n",
       "      <td>b396</td>\n",
       "      <td>131</td>\n",
       "      <td>267.490592</td>\n",
       "      <td>-18.416206</td>\n",
       "      <td>0.460933</td>\n",
       "      <td>b206, b214, b216, b220, b228, b234, b247, b248...</td>\n",
       "    </tr>\n",
       "    <tr>\n",
       "      <th>682776</th>\n",
       "      <td>32200000656825</td>\n",
       "      <td>b220</td>\n",
       "      <td>123</td>\n",
       "      <td>274.725521</td>\n",
       "      <td>-34.229878</td>\n",
       "      <td>0.460933</td>\n",
       "      <td>b206, b214, b216, b228, b234, b247, b248, b261...</td>\n",
       "    </tr>\n",
       "    <tr>\n",
       "      <th>6617136</th>\n",
       "      <td>33600000965623</td>\n",
       "      <td>b360</td>\n",
       "      <td>204</td>\n",
       "      <td>263.473292</td>\n",
       "      <td>-28.911094</td>\n",
       "      <td>0.460533</td>\n",
       "      <td>b206, b214, b216, b220, b228, b234, b247, b248...</td>\n",
       "    </tr>\n",
       "  </tbody>\n",
       "</table>\n",
       "<p>242 rows × 7 columns</p>\n",
       "</div>"
      ],
      "text/plain": [
       "                     id  tile  cnt        ra_k      dec_k      prob  \\\n",
       "6799063  33960000211620  b396  131  267.549917 -18.699892  0.852000   \n",
       "7153972  33960000942530  b396  130  268.118017 -17.763556  0.849467   \n",
       "6971905  33960000566886  b396  131  267.536346 -18.093889  0.837733   \n",
       "6801853  33960000220135  b396  131  267.637892 -18.734767  0.837333   \n",
       "6747151  33960000105195  b396  131  267.487762 -18.848939  0.828400   \n",
       "...                 ...   ...  ...         ...        ...       ...   \n",
       "6457949  33600000787886  b360  139  263.635417 -29.303825  0.462667   \n",
       "6926060  33960000470380  b396  131  267.525504 -18.250553  0.462000   \n",
       "6874859  33960000359818  b396  131  267.490592 -18.416206  0.460933   \n",
       "682776   32200000656825  b220  123  274.725521 -34.229878  0.460933   \n",
       "6617136  33600000965623  b360  204  263.473292 -28.911094  0.460533   \n",
       "\n",
       "                                                   tsample  \n",
       "6799063  b206, b214, b216, b220, b228, b234, b247, b248...  \n",
       "7153972  b206, b214, b216, b220, b228, b234, b247, b248...  \n",
       "6971905  b206, b214, b216, b220, b228, b234, b247, b248...  \n",
       "6801853  b206, b214, b216, b220, b228, b234, b247, b248...  \n",
       "6747151  b206, b214, b216, b220, b228, b234, b247, b248...  \n",
       "...                                                    ...  \n",
       "6457949  b206, b214, b216, b220, b228, b234, b247, b248...  \n",
       "6926060  b206, b214, b216, b220, b228, b234, b247, b248...  \n",
       "6874859  b206, b214, b216, b220, b228, b234, b247, b248...  \n",
       "682776   b206, b214, b216, b228, b234, b247, b248, b261...  \n",
       "6617136  b206, b214, b216, b220, b228, b234, b247, b248...  \n",
       "\n",
       "[242 rows x 7 columns]"
      ]
     },
     "execution_count": 2,
     "metadata": {},
     "output_type": "execute_result"
    }
   ],
   "source": [
    "df = client.get_catalog(\"others\", \"cpy_rr_v1\")\n",
    "df"
   ]
  },
  {
   "cell_type": "markdown",
   "metadata": {},
   "source": [
    "The columns of this catalog are"
   ]
  },
  {
   "cell_type": "code",
   "execution_count": 3,
   "metadata": {},
   "outputs": [
    {
     "name": "stdout",
     "output_type": "stream",
     "text": [
      "['id', 'tile', 'cnt', 'ra_k', 'dec_k', 'prob', 'tsample']\n"
     ]
    }
   ],
   "source": [
    "print(list(df.columns))"
   ]
  },
  {
   "cell_type": "markdown",
   "metadata": {},
   "source": [
    "Where\n",
    "\n",
    "- **id** (ID): This is the unique identifier of every light curve. If you want to access all the points of the lightcurve of a source wiht any *id*, you can search for the same value of a `bm_src_id`in the `lc`, or `id` in the `features` catalog of the same tile indicated in the column `tile`.\n",
    "- **tile**: The name of the tile where the candidate is located.\n",
    "- **cnt** (Count): How many epochs has the lightcurve.\n",
    "- **ra_k**: Right Ascension in band $K_s$ of the source in the first epoch.\n",
    "- **dec_k**: Declination in band $K_s$ of the source in the first epoch.\n",
    "- **prob** (Probability): The probability of this source to be a RR-Lyrae star [1]. \n",
    "- **tsample** (Tiles-Sample): Which tiles was used to create the ensemble select this source as a candidate [1].\n",
    "\n",
    "[1] To more insights about this feature please chek our work\n",
    "\n",
    "> Not ready\n",
    "\n",
    "Well lets play with a candidate"
   ]
  },
  {
   "cell_type": "code",
   "execution_count": 4,
   "metadata": {},
   "outputs": [
    {
     "data": {
      "text/plain": [
       "id                                            33960000211620\n",
       "tile                                                    b396\n",
       "cnt                                                      131\n",
       "ra_k                                                  267.55\n",
       "dec_k                                               -18.6999\n",
       "prob                                                   0.852\n",
       "tsample    b206, b214, b216, b220, b228, b234, b247, b248...\n",
       "Name: 6799063, dtype: object"
      ]
     },
     "execution_count": 4,
     "metadata": {},
     "output_type": "execute_result"
    }
   ],
   "source": [
    "rr = df.iloc[0]\n",
    "rr"
   ]
  },
  {
   "cell_type": "markdown",
   "metadata": {},
   "source": [
    "We can check their mean of magnitudes to check if the source is not saturated or diffuse."
   ]
  },
  {
   "cell_type": "markdown",
   "metadata": {},
   "source": [
    "Now we know id from the tile b396 we can retrieve the entire collection of features and the light-curve"
   ]
  },
  {
   "cell_type": "code",
   "execution_count": 5,
   "metadata": {},
   "outputs": [],
   "source": [
    "feats = client.get_catalog(\"b396\", \"features\")\n",
    "lc = client.get_catalog(\"b396\", \"lc\")\n",
    "\n",
    "# retrieve the features of the selected source\n",
    "feats = feats[feats.id == rr.id]  \n",
    "lc = lc[lc.bm_src_id == rr.id]"
   ]
  },
  {
   "cell_type": "markdown",
   "metadata": {},
   "source": [
    "No we have the features\n"
   ]
  },
  {
   "cell_type": "code",
   "execution_count": 6,
   "metadata": {},
   "outputs": [
    {
     "data": {
      "text/html": [
       "<div>\n",
       "<style scoped>\n",
       "    .dataframe tbody tr th:only-of-type {\n",
       "        vertical-align: middle;\n",
       "    }\n",
       "\n",
       "    .dataframe tbody tr th {\n",
       "        vertical-align: top;\n",
       "    }\n",
       "\n",
       "    .dataframe thead th {\n",
       "        text-align: right;\n",
       "    }\n",
       "</style>\n",
       "<table border=\"1\" class=\"dataframe\">\n",
       "  <thead>\n",
       "    <tr style=\"text-align: right;\">\n",
       "      <th></th>\n",
       "      <th>id</th>\n",
       "      <th>cnt</th>\n",
       "      <th>ra_k</th>\n",
       "      <th>dec_k</th>\n",
       "      <th>vs_type</th>\n",
       "      <th>vs_catalog</th>\n",
       "      <th>Amplitude</th>\n",
       "      <th>Autocor_length</th>\n",
       "      <th>Beyond1Std</th>\n",
       "      <th>Con</th>\n",
       "      <th>...</th>\n",
       "      <th>c89_jk_color</th>\n",
       "      <th>c89_m2</th>\n",
       "      <th>c89_m4</th>\n",
       "      <th>n09_c3</th>\n",
       "      <th>n09_hk_color</th>\n",
       "      <th>n09_jh_color</th>\n",
       "      <th>n09_jk_color</th>\n",
       "      <th>n09_m2</th>\n",
       "      <th>n09_m4</th>\n",
       "      <th>ppmb</th>\n",
       "    </tr>\n",
       "  </thead>\n",
       "  <tbody>\n",
       "    <tr>\n",
       "      <th>144267</th>\n",
       "      <td>33960000211620</td>\n",
       "      <td>131</td>\n",
       "      <td>267.549917</td>\n",
       "      <td>-18.699892</td>\n",
       "      <td></td>\n",
       "      <td></td>\n",
       "      <td>0.178</td>\n",
       "      <td>2.0</td>\n",
       "      <td>0.274809</td>\n",
       "      <td>0.0</td>\n",
       "      <td>...</td>\n",
       "      <td>0.139307</td>\n",
       "      <td>13.758278</td>\n",
       "      <td>13.748731</td>\n",
       "      <td>0.039034</td>\n",
       "      <td>0.037559</td>\n",
       "      <td>0.103765</td>\n",
       "      <td>0.141323</td>\n",
       "      <td>13.8797</td>\n",
       "      <td>13.880858</td>\n",
       "      <td>1.49232</td>\n",
       "    </tr>\n",
       "  </tbody>\n",
       "</table>\n",
       "<p>1 rows × 73 columns</p>\n",
       "</div>"
      ],
      "text/plain": [
       "                    id  cnt        ra_k      dec_k vs_type vs_catalog  \\\n",
       "144267  33960000211620  131  267.549917 -18.699892                      \n",
       "\n",
       "        Amplitude  Autocor_length  Beyond1Std  Con  ...  c89_jk_color  \\\n",
       "144267      0.178             2.0    0.274809  0.0  ...      0.139307   \n",
       "\n",
       "           c89_m2     c89_m4    n09_c3  n09_hk_color  n09_jh_color  \\\n",
       "144267  13.758278  13.748731  0.039034      0.037559      0.103765   \n",
       "\n",
       "        n09_jk_color   n09_m2     n09_m4     ppmb  \n",
       "144267      0.141323  13.8797  13.880858  1.49232  \n",
       "\n",
       "[1 rows x 73 columns]"
      ]
     },
     "execution_count": 6,
     "metadata": {},
     "output_type": "execute_result"
    }
   ],
   "source": [
    "feats"
   ]
  },
  {
   "cell_type": "markdown",
   "metadata": {},
   "source": [
    "and the entire lc"
   ]
  },
  {
   "cell_type": "code",
   "execution_count": 7,
   "metadata": {},
   "outputs": [
    {
     "data": {
      "text/html": [
       "<div>\n",
       "<style scoped>\n",
       "    .dataframe tbody tr th:only-of-type {\n",
       "        vertical-align: middle;\n",
       "    }\n",
       "\n",
       "    .dataframe tbody tr th {\n",
       "        vertical-align: top;\n",
       "    }\n",
       "\n",
       "    .dataframe thead th {\n",
       "        text-align: right;\n",
       "    }\n",
       "</style>\n",
       "<table border=\"1\" class=\"dataframe\">\n",
       "  <thead>\n",
       "    <tr style=\"text-align: right;\">\n",
       "      <th></th>\n",
       "      <th>bm_src_id</th>\n",
       "      <th>pwp_id</th>\n",
       "      <th>pwp_stack_src_id</th>\n",
       "      <th>pwp_stack_src_hjd</th>\n",
       "      <th>pwp_stack_src_mag3</th>\n",
       "      <th>pwp_stack_src_mag_err3</th>\n",
       "    </tr>\n",
       "  </thead>\n",
       "  <tbody>\n",
       "    <tr>\n",
       "      <th>752483</th>\n",
       "      <td>33960000211620</td>\n",
       "      <td>2753</td>\n",
       "      <td>3000275300031172</td>\n",
       "      <td>56152.044089</td>\n",
       "      <td>14.230</td>\n",
       "      <td>0.028</td>\n",
       "    </tr>\n",
       "    <tr>\n",
       "      <th>926175</th>\n",
       "      <td>33960000211620</td>\n",
       "      <td>2754</td>\n",
       "      <td>3000275400026402</td>\n",
       "      <td>56152.044623</td>\n",
       "      <td>14.198</td>\n",
       "      <td>0.030</td>\n",
       "    </tr>\n",
       "    <tr>\n",
       "      <th>1745826</th>\n",
       "      <td>33960000211620</td>\n",
       "      <td>2759</td>\n",
       "      <td>3000275900028136</td>\n",
       "      <td>56156.014732</td>\n",
       "      <td>14.282</td>\n",
       "      <td>0.030</td>\n",
       "    </tr>\n",
       "    <tr>\n",
       "      <th>1922566</th>\n",
       "      <td>33960000211620</td>\n",
       "      <td>2760</td>\n",
       "      <td>3000276000029792</td>\n",
       "      <td>56156.015266</td>\n",
       "      <td>14.342</td>\n",
       "      <td>0.032</td>\n",
       "    </tr>\n",
       "    <tr>\n",
       "      <th>2959474</th>\n",
       "      <td>33960000211620</td>\n",
       "      <td>2765</td>\n",
       "      <td>3000276500036874</td>\n",
       "      <td>56167.994914</td>\n",
       "      <td>14.304</td>\n",
       "      <td>0.029</td>\n",
       "    </tr>\n",
       "    <tr>\n",
       "      <th>...</th>\n",
       "      <td>...</td>\n",
       "      <td>...</td>\n",
       "      <td>...</td>\n",
       "      <td>...</td>\n",
       "      <td>...</td>\n",
       "      <td>...</td>\n",
       "    </tr>\n",
       "    <tr>\n",
       "      <th>82226182</th>\n",
       "      <td>33960000211620</td>\n",
       "      <td>2711</td>\n",
       "      <td>3000271100035211</td>\n",
       "      <td>56075.305061</td>\n",
       "      <td>14.265</td>\n",
       "      <td>0.031</td>\n",
       "    </tr>\n",
       "    <tr>\n",
       "      <th>82456417</th>\n",
       "      <td>33960000211620</td>\n",
       "      <td>2712</td>\n",
       "      <td>3000271200042427</td>\n",
       "      <td>56075.305558</td>\n",
       "      <td>14.242</td>\n",
       "      <td>0.027</td>\n",
       "    </tr>\n",
       "    <tr>\n",
       "      <th>83636862</th>\n",
       "      <td>33960000211620</td>\n",
       "      <td>2717</td>\n",
       "      <td>3000271700036927</td>\n",
       "      <td>56078.297314</td>\n",
       "      <td>14.206</td>\n",
       "      <td>0.029</td>\n",
       "    </tr>\n",
       "    <tr>\n",
       "      <th>83884497</th>\n",
       "      <td>33960000211620</td>\n",
       "      <td>2718</td>\n",
       "      <td>3000271800042962</td>\n",
       "      <td>56078.297828</td>\n",
       "      <td>14.205</td>\n",
       "      <td>0.026</td>\n",
       "    </tr>\n",
       "    <tr>\n",
       "      <th>85016389</th>\n",
       "      <td>33960000211620</td>\n",
       "      <td>2723</td>\n",
       "      <td>3000272300029811</td>\n",
       "      <td>56099.295536</td>\n",
       "      <td>14.295</td>\n",
       "      <td>0.031</td>\n",
       "    </tr>\n",
       "  </tbody>\n",
       "</table>\n",
       "<p>131 rows × 6 columns</p>\n",
       "</div>"
      ],
      "text/plain": [
       "               bm_src_id  pwp_id  pwp_stack_src_id  pwp_stack_src_hjd  \\\n",
       "752483    33960000211620    2753  3000275300031172       56152.044089   \n",
       "926175    33960000211620    2754  3000275400026402       56152.044623   \n",
       "1745826   33960000211620    2759  3000275900028136       56156.014732   \n",
       "1922566   33960000211620    2760  3000276000029792       56156.015266   \n",
       "2959474   33960000211620    2765  3000276500036874       56167.994914   \n",
       "...                  ...     ...               ...                ...   \n",
       "82226182  33960000211620    2711  3000271100035211       56075.305061   \n",
       "82456417  33960000211620    2712  3000271200042427       56075.305558   \n",
       "83636862  33960000211620    2717  3000271700036927       56078.297314   \n",
       "83884497  33960000211620    2718  3000271800042962       56078.297828   \n",
       "85016389  33960000211620    2723  3000272300029811       56099.295536   \n",
       "\n",
       "          pwp_stack_src_mag3  pwp_stack_src_mag_err3  \n",
       "752483                14.230                   0.028  \n",
       "926175                14.198                   0.030  \n",
       "1745826               14.282                   0.030  \n",
       "1922566               14.342                   0.032  \n",
       "2959474               14.304                   0.029  \n",
       "...                      ...                     ...  \n",
       "82226182              14.265                   0.031  \n",
       "82456417              14.242                   0.027  \n",
       "83636862              14.206                   0.029  \n",
       "83884497              14.205                   0.026  \n",
       "85016389              14.295                   0.031  \n",
       "\n",
       "[131 rows x 6 columns]"
      ]
     },
     "execution_count": 7,
     "metadata": {},
     "output_type": "execute_result"
    }
   ],
   "source": [
    "lc"
   ]
  },
  {
   "cell_type": "markdown",
   "metadata": {},
   "source": [
    "We can phase the light curve now"
   ]
  },
  {
   "cell_type": "markdown",
   "metadata": {},
   "source": [
    "For make our code simple we can use to folde the light curve the [PyAstronomy](https://www.hs.uni-hamburg.de/DE/Ins/Per/Czesla/PyA/PyA/index.html) and numpy library "
   ]
  },
  {
   "cell_type": "code",
   "execution_count": 8,
   "metadata": {},
   "outputs": [],
   "source": [
    "from PyAstronomy.pyasl import foldAt\n",
    "import numpy as np"
   ]
  },
  {
   "cell_type": "code",
   "execution_count": 9,
   "metadata": {},
   "outputs": [],
   "source": [
    "%matplotlib inline \n",
    "import matplotlib.pyplot as plt"
   ]
  },
  {
   "cell_type": "markdown",
   "metadata": {},
   "source": [
    "now we can plot the folded and unfolded lightcurves"
   ]
  },
  {
   "cell_type": "code",
   "execution_count": 10,
   "metadata": {},
   "outputs": [
    {
     "data": {
      "image/png": "[encoded data removed]",
      "text/plain": [
       "<Figure size 864x432 with 2 Axes>"
      ]
     },
     "metadata": {
      "needs_background": "light"
     },
     "output_type": "display_data"
    }
   ],
   "source": [
    "lc = lc.sort_values(\"pwp_stack_src_hjd\")\n",
    "\n",
    "time, mag, err = (\n",
    "        lc.pwp_stack_src_hjd.values,\n",
    "        lc.pwp_stack_src_mag3.values,\n",
    "        lc.pwp_stack_src_mag_err3.values)\n",
    "\n",
    "t0 = time[0]\n",
    "\n",
    "phases = foldAt(time, feats.PeriodLS.values, T0=t0)\n",
    "sort = np.argsort(phases)\n",
    "phases, pmag, perr = phases[sort], mag[sort], err[sort]\n",
    "\n",
    "phases = np.hstack((phases, phases + 1))\n",
    "pmag = np.hstack((pmag, pmag))\n",
    "perr = np.hstack((perr, perr))\n",
    "\n",
    "\n",
    "fig, axes = plt.subplots(2, 1, figsize=(12, 6))\n",
    "\n",
    "ax = axes[0]\n",
    "ax.errorbar(time, mag, err, ls=\"\", marker=\"o\", ecolor=\"red\")\n",
    "ax.set_title(f\"Light Curve of source {rr.id} (Prob: ~{rr.prob:.2f})\")\n",
    "ax.set_ylabel(\"Magnitude\")\n",
    "ax.set_xlabel(\"HJD\")\n",
    "ax.invert_yaxis()\n",
    "\n",
    "ax = axes[1]\n",
    "ax.errorbar(phases, pmag, perr, ls=\"\", marker=\"o\", ecolor=\"blue\", color=\"red\")\n",
    "ax.set_title(f\"Folded Light Curve of source {rr.id} (Prob: ~{rr.prob:.2f})\")\n",
    "ax.set_ylabel(\"Magnitude\")\n",
    "ax.set_xlabel(\"Phase\")\n",
    "ax.invert_yaxis()\n",
    "\n",
    "fig.tight_layout()"
   ]
  },
  {
   "cell_type": "code",
   "execution_count": 11,
   "metadata": {},
   "outputs": [
    {
     "data": {
      "text/plain": [
       "datetime.datetime(2020, 4, 28, 14, 51, 19, 200081)"
      ]
     },
     "execution_count": 11,
     "metadata": {},
     "output_type": "execute_result"
    }
   ],
   "source": [
    "import datetime as dt\n",
    "dt.datetime.now()"
   ]
  }
 ],
 "metadata": {
  "kernelspec": {
   "display_name": "Python 3",
   "language": "python",
   "name": "python3"
  },
  "language_info": {
   "codemirror_mode": {
    "name": "ipython",
    "version": 3
   },
   "file_extension": ".py",
   "mimetype": "text/x-python",
   "name": "python",
   "nbconvert_exporter": "python",
   "pygments_lexer": "ipython3",
   "version": "3.8.0"
  }
 },
 "nbformat": 4,
 "nbformat_minor": 4
}