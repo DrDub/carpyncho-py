{
 "cells": [
  {
   "cell_type": "markdown",
   "metadata": {},
   "source": [
    "# Command line interface (`CLI`)\n",
    "\n",
    "After install Carpyncho you gonna have available command line app to download  any dataset."
   ]
  },
  {
   "cell_type": "code",
   "execution_count": 1,
   "metadata": {},
   "outputs": [
    {
     "name": "stdout",
     "output_type": "stream",
     "text": [
      "Usage: carpyncho command [args...]\n",
      "\n",
      "Carpyncho console client.\n",
      "\n",
      "Explore and download the entire https://carpyncho.github.io/ catalogs from your\n",
      "command line.\n",
      "\n",
      "Commands:\n",
      "  catalog-info       Retrieve the information about a given catalog.\n",
      "  download-catalog   Retrives a catalog from th Carpyncho dataset collection.\n",
      "  has-catalog        Check if a given catalog and tile exists.\n",
      "  list-catalogs      Show the available catalogs for a given tile.\n",
      "  list-tiles         Show available tiles.\n",
      "  version            Print Carpyncho version.\n",
      "\n",
      "This software is under the BSD 3-Clause License. Copyright (c) 2020, Juan\n",
      "Cabral. For bug reporting or other instructions please check:\n",
      "https://github.com/carpyncho/carpyncho-py\n"
     ]
    }
   ],
   "source": [
    "carpyncho --help"
   ]
  },
  {
   "cell_type": "markdown",
   "metadata": {},
   "source": [
    "To list all availables tiles we can run"
   ]
  },
  {
   "cell_type": "code",
   "execution_count": 2,
   "metadata": {},
   "outputs": [
    {
     "name": "stdout",
     "output_type": "stream",
     "text": [
      "- b206\n",
      "- b214\n",
      "- b216\n",
      "- b220\n",
      "- b228\n",
      "- b234\n",
      "- b247\n",
      "- b248\n",
      "- b261\n",
      "- b262\n",
      "- b263\n",
      "- b264\n",
      "- b277\n",
      "- b278\n",
      "- b356\n",
      "- b360\n",
      "- b396\n"
     ]
    }
   ],
   "source": [
    "carpyncho list-tiles"
   ]
  },
  {
   "cell_type": "markdown",
   "metadata": {},
   "source": [
    "Then we can check all the available catalogs for a given tile (`b216` for example)"
   ]
  },
  {
   "cell_type": "code",
   "execution_count": 3,
   "metadata": {},
   "outputs": [
    {
     "name": "stdout",
     "output_type": "stream",
     "text": [
      "Tile b216\n",
      "    - features\n",
      "    - lc\n"
     ]
    }
   ],
   "source": [
    "carpyncho list-catalogs b216"
   ]
  },
  {
   "cell_type": "markdown",
   "metadata": {},
   "source": [
    "Lets asume we want to download the catalog *features* from the tile *b216*.\n",
    "First lets check how big is the catalog before download:"
   ]
  },
  {
   "cell_type": "code",
   "execution_count": 4,
   "metadata": {},
   "outputs": [
    {
     "name": "stdout",
     "output_type": "stream",
     "text": [
      "Catalog b216-features\n",
      "    - hname: Features\n",
      "    - format: BZIP2-Parquet\n",
      "    - extension: .parquet.bz2\n",
      "    - date: 2020-04-14\n",
      "    - md5sum: 433aae05541a2f5b191aa95d717fa83c  features_b216.parquet.bz2\n",
      "    - filename: features_b216.parquet.bz2\n",
      "    - driveid: 1-t165sLjn0k507SFeW-A4p9wYVL9rP4B\n",
      "    - size: 142.2 MiB\n",
      "    - records: 334,773\n"
     ]
    }
   ],
   "source": [
    "carpyncho catalog-info b216 features"
   ]
  },
  {
   "cell_type": "markdown",
   "metadata": {},
   "source": [
    "Well `142 MiB` for `334773` rows in the table, lets download it and sotore\n",
    "it in `csv` format"
   ]
  },
  {
   "cell_type": "code",
   "execution_count": 5,
   "metadata": {},
   "outputs": [
    {
     "name": "stdout",
     "output_type": "stream",
     "text": [
      "b216-features: 149MB [03:03, 811kB/s]                                           \n",
      "Writing b216_features.csv...\n"
     ]
    }
   ],
   "source": [
    "carpyncho download-catalog b216 features --out b216_features.csv"
   ]
  },
  {
   "cell_type": "markdown",
   "metadata": {},
   "source": [
    "Now lets check the size and the checksum to see if it's correct\n",
    "(warning this is linux and mac only)"
   ]
  },
  {
   "cell_type": "code",
   "execution_count": 7,
   "metadata": {},
   "outputs": [
    {
     "name": "stdout",
     "output_type": "stream",
     "text": [
      "334774\n"
     ]
    }
   ],
   "source": [
    "cat b216_features.csv | wc -l "
   ]
  },
  {
   "cell_type": "markdown",
   "metadata": {},
   "source": [
    "The rows are ok, so it's done.\n",
    "\n",
    "If you run the same command multiple times, the file will be cached.\n",
    "\n",
    "All the commands support more options yo can check it with `carpyncho <command> --help`. For example"
   ]
  },
  {
   "cell_type": "code",
   "execution_count": 11,
   "metadata": {},
   "outputs": [
    {
     "name": "stdout",
     "output_type": "stream",
     "text": [
      "Usage: carpyncho download-catalog [OPTIONS] tile catalog\n",
      "\n",
      "Retrives a catalog from th Carpyncho dataset collection.\n",
      "\n",
      "Arguments:\n",
      "  tile         The name of the tile.\n",
      "  catalog      The name of the catalog.\n",
      "\n",
      "Options:\n",
      "  --out=STR    Path to store the catalog. The extension of the file detemines\n",
      "               the format. Options are \".xlsx\" (Excel), \".csv\", \".pkl\" (Python\n",
      "               pickle) and \".parquet\".\n",
      "  --force      Force to ignore the cached value and redownload the catalog. Try\n",
      "               to always set force to False.\n",
      "\n",
      "Other actions:\n",
      "  -h, --help   Show the help\n"
     ]
    }
   ],
   "source": [
    "carpyncho download-catalog --help"
   ]
  },
  {
   "cell_type": "code",
   "execution_count": 12,
   "metadata": {},
   "outputs": [
    {
     "name": "stdout",
     "output_type": "stream",
     "text": [
      "jue abr 23 22:38:42 -03 2020\n"
     ]
    }
   ],
   "source": [
    "date"
   ]
  }
 ],
 "metadata": {
  "kernelspec": {
   "display_name": "Bash",
   "language": "bash",
   "name": "bash"
  },
  "language_info": {
   "codemirror_mode": "shell",
   "file_extension": ".sh",
   "mimetype": "text/x-sh",
   "name": "bash"
  }
 },
 "nbformat": 4,
 "nbformat_minor": 4
}
