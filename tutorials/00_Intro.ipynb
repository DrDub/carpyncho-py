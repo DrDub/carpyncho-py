{
 "cells": [
  {
   "cell_type": "markdown",
   "metadata": {},
   "source": [
    "# Introduction\n",
    "\n",
    "This tutorial will show how to understand and manipilate the `carpyncho` Python Client.\n",
    "\n",
    "First we need to import the module, and instantiate the client"
   ]
  },
  {
   "cell_type": "code",
   "execution_count": 1,
   "metadata": {},
   "outputs": [],
   "source": [
    "import carpyncho\n",
    "client = carpyncho.Carpyncho()"
   ]
  },
  {
   "cell_type": "code",
   "execution_count": 4,
   "metadata": {},
   "outputs": [
    {
     "data": {
      "text/plain": [
       "\u001b[0;31mType:\u001b[0m        Carpyncho\n",
       "\u001b[0;31mString form:\u001b[0m Carpyncho(cache=<diskcache.core.Cache object at 0x7f4f84d8c280>)\n",
       "\u001b[0;31mFile:\u001b[0m        ~/proyectos/carpyncho-py/src/carpyncho.py\n",
       "\u001b[0;31mDocstring:\u001b[0m  \n",
       "Client to access the *Carpyncho VVV dataset collection*.\n",
       "\n",
       "This code access as a Pandas Dataframe all the data of the web version of\n",
       "Carpyncho. https://carpyncho.github.io/.\n",
       "\n",
       "Parameters\n",
       "----------\n",
       "cache : ``diskcache.Cache``, ``diskcache.Fanout``,\n",
       "    or ``None`` (default: ``None``)\n",
       "    Any instance of ``diskcache.Cache``, ``diskcache.Fanout`` or\n",
       "    ``None`` (Default). If it's ``None`` a ``diskcache.Cache``\n",
       "    istance is created with the parameter\n",
       "    ``directory = carpyncho.DEFAULT_CACHE_DIR``.\n",
       "    More information: http://www.grantjenks.com/docs/diskcache\n",
       "cache_expire : ``float`` or None (default=``None``)\n",
       "    Seconds until item expires (default ``None``, no expiry)\n",
       "    More information: http://www.grantjenks.com/docs/diskcache\n"
      ]
     },
     "metadata": {},
     "output_type": "display_data"
    }
   ],
   "source": [
    "client?"
   ]
  },
  {
   "cell_type": "code",
   "execution_count": null,
   "metadata": {},
   "outputs": [],
   "source": []
  }
 ],
 "metadata": {
  "kernelspec": {
   "display_name": "Python 3",
   "language": "python",
   "name": "python3"
  },
  "language_info": {
   "codemirror_mode": {
    "name": "ipython",
    "version": 3
   },
   "file_extension": ".py",
   "mimetype": "text/x-python",
   "name": "python",
   "nbconvert_exporter": "python",
   "pygments_lexer": "ipython3",
   "version": "3.8.0"
  }
 },
 "nbformat": 4,
 "nbformat_minor": 4
}
